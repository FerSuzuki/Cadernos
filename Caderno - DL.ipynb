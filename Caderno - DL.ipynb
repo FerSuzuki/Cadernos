{
 "cells": [
  {
   "cell_type": "markdown",
   "id": "129c31ee",
   "metadata": {},
   "source": [
    "# Projetos DL"
   ]
  },
  {
   "cell_type": "markdown",
   "id": "966463a8",
   "metadata": {},
   "source": [
    "## Multi-Layer Perceptron"
   ]
  },
  {
   "cell_type": "markdown",
   "id": "774973be",
   "metadata": {},
   "source": [
    "Keras Dataset MNIST\n",
    "https://colab.research.google.com/drive/1dnPLWjz4M_6aqDfOC7xRN1gnJGByseWS?usp=sharing\n",
    "\n",
    "Dataset Lugares\n",
    "https://colab.research.google.com/drive/1UnZ9jssxFeck2amcozn_sUhvpt2e3Bm_?usp=sharing"
   ]
  },
  {
   "cell_type": "markdown",
   "id": "39249489",
   "metadata": {},
   "source": []
  },
  {
   "cell_type": "markdown",
   "id": "b139f129",
   "metadata": {},
   "source": []
  },
  {
   "cell_type": "markdown",
   "id": "44850a7a",
   "metadata": {},
   "source": []
  },
  {
   "cell_type": "markdown",
   "id": "8e81a5eb",
   "metadata": {},
   "source": []
  },
  {
   "cell_type": "markdown",
   "id": "e235cdea",
   "metadata": {},
   "source": []
  },
  {
   "cell_type": "markdown",
   "id": "676e3ee2",
   "metadata": {},
   "source": []
  },
  {
   "cell_type": "markdown",
   "id": "e69eac81",
   "metadata": {},
   "source": []
  },
  {
   "cell_type": "markdown",
   "id": "a802e0e1",
   "metadata": {},
   "source": []
  },
  {
   "cell_type": "code",
   "execution_count": null,
   "id": "ff90eb73",
   "metadata": {},
   "outputs": [],
   "source": [
    "import pandas as pd\n",
    "import numpy as np"
   ]
  },
  {
   "cell_type": "code",
   "execution_count": null,
   "id": "bab83133",
   "metadata": {},
   "outputs": [],
   "source": []
  },
  {
   "cell_type": "code",
   "execution_count": null,
   "id": "109c8755",
   "metadata": {},
   "outputs": [],
   "source": []
  },
  {
   "cell_type": "code",
   "execution_count": null,
   "id": "eec96bb0",
   "metadata": {},
   "outputs": [],
   "source": []
  },
  {
   "cell_type": "code",
   "execution_count": null,
   "id": "ffb477f7",
   "metadata": {},
   "outputs": [],
   "source": []
  },
  {
   "cell_type": "code",
   "execution_count": null,
   "id": "caeb4445",
   "metadata": {},
   "outputs": [],
   "source": []
  },
  {
   "cell_type": "code",
   "execution_count": null,
   "id": "e42224c3",
   "metadata": {},
   "outputs": [],
   "source": []
  },
  {
   "cell_type": "code",
   "execution_count": null,
   "id": "dfd758c8",
   "metadata": {},
   "outputs": [],
   "source": []
  },
  {
   "cell_type": "code",
   "execution_count": null,
   "id": "6a455447",
   "metadata": {},
   "outputs": [],
   "source": []
  },
  {
   "cell_type": "code",
   "execution_count": null,
   "id": "766aacd7",
   "metadata": {},
   "outputs": [],
   "source": []
  }
 ],
 "metadata": {
  "kernelspec": {
   "display_name": "Python 3 (ipykernel)",
   "language": "python",
   "name": "python3"
  },
  "language_info": {
   "codemirror_mode": {
    "name": "ipython",
    "version": 3
   },
   "file_extension": ".py",
   "mimetype": "text/x-python",
   "name": "python",
   "nbconvert_exporter": "python",
   "pygments_lexer": "ipython3",
   "version": "3.10.0"
  }
 },
 "nbformat": 4,
 "nbformat_minor": 5
}
