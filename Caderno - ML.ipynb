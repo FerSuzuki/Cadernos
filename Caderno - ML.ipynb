{
 "cells": [
  {
   "cell_type": "markdown",
   "id": "129c31ee",
   "metadata": {},
   "source": [
    "# <font color=#FFCC66> Preprocessamento </font>"
   ]
  },
  {
   "cell_type": "markdown",
   "id": "85eaeff8",
   "metadata": {},
   "source": [
    "- df.shape\n",
    "- df.info()\n",
    "- df.describe()\n",
    "- sns.countplot(df.feature, normalize=True)"
   ]
  },
  {
   "cell_type": "markdown",
   "id": "1c92fbbf",
   "metadata": {},
   "source": [
    "##  <font color=#33CC66> Dimension Reduction </font>"
   ]
  },
  {
   "cell_type": "markdown",
   "id": "069d680f",
   "metadata": {},
   "source": [
    "##  <font color=#33CC66> Engenharia de Features </font>"
   ]
  },
  {
   "cell_type": "markdown",
   "id": "f2cfbd64",
   "metadata": {},
   "source": [
    "###  <font color=#33FFFF> Feature Scaling </font>"
   ]
  },
  {
   "cell_type": "markdown",
   "id": "c090d619",
   "metadata": {},
   "source": [
    "##### Mais sensíveis:  \n",
    "Otimização:\n",
    "- Regressão Linear\n",
    "- Regressao Logística\n",
    "- Redes Neurais\n",
    "\n",
    "Distância:\n",
    "- SVM\n",
    "- KNN\n",
    "- K-means\n",
    "\n",
    "##### Menos sensíveis:  \n",
    "- Arvore de Decisão\n",
    "- Randon Forest\n",
    "  \n",
    "#### Tipos\n",
    "##### Standardization (Padronização - Quantos desvios padrões da média)\n",
    "* Preferência sobre a normalização por contar com desvios padrões e reconhecimento de possíveis outliers\n",
    "* <b> Sempre fitar o modelo DEPOIS do split do dataset </b>\n",
    "<br> Assim, não é vazado informação de teste para o treino\n",
    "* (valor - média) / (desvio padrão)\n",
    "\n",
    "```python\n",
    "    from sklearn.preprocessing import StandardScaler\n",
    "\n",
    "    scaler = StandardScaler()\n",
    "    x_train_std = scaler.fit_transform(x_train) # z_scaler - O fit salva a média e o desvio padrão para aplicar a Padronização\n",
    "    x_val_std = scaler.transform(x_val) # aplicar a padronização\n",
    "```\n",
    "##### Normalization (Valor / Valor_Max)\n",
    "\n",
    "* É muito mais sensível a outlier por considerar valores de borda\n",
    "* (valor - min) / (max - min)\n",
    "\n",
    "```python\n",
    "    from sklearn.preprocessing import MinMaxScaler\n",
    "\n",
    "    scaler = MinMaxScaler()\n",
    "    scaler = scaler.fit(x_train) # \n",
    "    print(scaler.data_max, scaler.data_min)\n",
    "    x_val_std = scaler.transform(x_val) # aplicar a padronização\n",
    "```"
   ]
  },
  {
   "cell_type": "markdown",
   "id": "a1f02fcb",
   "metadata": {},
   "source": [
    "<img src=\"data:image/png;base64,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\" />"
   ]
  },
  {
   "cell_type": "markdown",
   "id": "c2e95ca6",
   "metadata": {},
   "source": [
    "### <font color=#33FFFF> Categorização de Feature </font>"
   ]
  },
  {
   "cell_type": "markdown",
   "id": "b440e0ea",
   "metadata": {},
   "source": [
    "#### OneHotEncode ou GetDummies\n",
    "\n",
    "- Criação de uma feature para cada categoria\n",
    "\n",
    "```python\n",
    "    from sklearn.preprocessing import OneHotEncoder\n",
    "\n",
    "    hot = OneHotEncoder()\n",
    "    y_train = hot.fit_transform(y_train)\n",
    "    y_test = hot.transform(y_test)\n",
    "```\n",
    "\n",
    "#### Label Encoder\n",
    "\n",
    "- A categorização se mantém em uma única feature, porém cada uma delas é atrelada a um valor numérico SEQUENCIAL\n",
    "- Tal ordenação pode gerar certos problemas de \"ordem\" entre as categorias \n",
    "- Normalmente os algorítimos baseados em distância sofrem com essa categorização (KNN, K-Means, Regressão Logística)\n",
    "\n",
    "Ex: Níveis de Escolaridade\n",
    "\n",
    "```python\n",
    "    df.col = df.col.replace[{'label1':0, 'label2':1, 'label3':2}]\n",
    "```\n",
    "\n",
    "#### Discretização\n",
    "\n",
    "- Criar rótulos que agrupam as categorias\n",
    "- Dessa forma transforma dados contínuos em discretizados\n",
    "\n",
    "<b> Hiperparâmetros\n",
    "- n_bins: quantidade de agrupamentos\n",
    "- strategy: \"uniform\", \"quantile\" (percentil), \"kmeans\"\n",
    "\n",
    "```python\n",
    "    from sklearn.preprocessing import KBinsDiscretizer\n",
    "    disc = KBinsDiscretizer(n_bins= 5, strategy= 'uniform', encode= 'ordinal')\n",
    "    dados_transf = disc.fit_transform(X[['column']])\n",
    "    dados_transf.flatten()\n",
    "    X['bins'] = dados_transf\n",
    "```"
   ]
  },
  {
   "cell_type": "markdown",
   "id": "bd851f07",
   "metadata": {},
   "source": [
    "### <font color=#33FFFF> Dados Faltantes </font>"
   ]
  },
  {
   "cell_type": "markdown",
   "id": "080ecc14",
   "metadata": {},
   "source": [
    "* Verificar o percentual de relevância de <b> Dados Faltantes </b>\n",
    "* Verificar quantos dados faltantes existem na linha\n",
    "* Sempre buscar a área de negócios para entender o comportamento dos dados\n",
    "\n",
    "* Uma opção é preencher com algum valor e adicionar uma coluna booleana de dado faltante\n",
    "\n",
    "```python\n",
    "from sklearn.impute import SimpleImputer\n",
    "\n",
    "imputer = SimpleImputer(strategy= 'constant', fill_value= -1)\n",
    "imputer = imputer.fit(X[[column, ..., n_cols]])\n",
    "X[column] = imputer.transform(X[[column, ..., n_cols]])\n",
    "```\n",
    "\n",
    "<font color=#CCCCFF> Média </font><br>\n",
    "<font color=#CCCCFF> Mediana </font><br>\n",
    "<font color=#CCCCFF> Moda </font><br>\n",
    "\n",
    "Opções:<br>\n",
    "<font color=#CCCCFF> KNNImputer </font><br>\n",
    "<font color=#CCCCFF> IterativeImputer </font><br>\n"
   ]
  },
  {
   "cell_type": "markdown",
   "id": "348b78aa",
   "metadata": {},
   "source": [
    "### <font color=#33FFFF> Binarização </font>"
   ]
  },
  {
   "cell_type": "markdown",
   "id": "8c8aef3e",
   "metadata": {},
   "source": [
    "* Modificar as features de forma a otimizar resultados\n",
    "* Definir um threshold e cria uma feature nova classificando se o valor está acima ou abaixo\n",
    "\n",
    "```python\n",
    "from sklearn.preprocessing import Binarizer\n",
    "\n",
    "imputer = Binarizer(threshold= value)\n",
    "imputer = imputer.fit(X[[column, ..., n_cols]])\n",
    "dados_transformados = imputer.transform(X[[column, ..., n_cols]])\n",
    "\n",
    "X[column] = pd.Series(dados_transformados[0])\n",
    "```"
   ]
  },
  {
   "cell_type": "markdown",
   "id": "445ab5ff",
   "metadata": {},
   "source": [
    "# <font color=#FFCC66> Estrutura de um Modelo de Machine Learning </font>"
   ]
  },
  {
   "cell_type": "markdown",
   "id": "be25c92f",
   "metadata": {},
   "source": [
    "* FALL BACK!! Variáveis para derrubar o modelo\n",
    "\n",
    "<img src=\"https://cdn-images-1.medium.com/max/1000/1*ZiYvylk60EY2XG7ck1lqJA.png\" width=500>\n",
    "\n",
    "- **Conjunto de dados de treino**: são os dados utilizados para a construção do modelo, os dados que o modelo utilizará \"para aprender\";\n",
    "\n",
    "\n",
    "- **Conjunto de dados de validação**: conjunto de dados usados para testar o modelo e aprimorar a sua performance, seja na seleção de hyperparâmetros/seleção de modelo;\n",
    "\n",
    "\n",
    "- **Treinamento do modelo**: é a etapa em que cálculos matemáticos são feitos para que a equação que descreve o modelo seja criada! É assim que \"o modelo aprende!\";\n",
    "\n",
    "\n",
    "- **Seleção de hiperparâmetros/seleção de modelo**: etapa em que os hiperperâmetros que constituem o modelo são selecionados. Aqui, técnicas como **grid search** e **cross validation** são muito importantes! Falaremos disso mais tarde.\n",
    "\n",
    "\n",
    "- **Conjunto de dados de teste**: conjunto de dados utilizado para testar o modelo após ele ter sido treinado. Essa é a melhor forma de simular o modelo em produção ou podemos dizer \"na vida real\", onde o nosso modelo será testado com dados que ele nunca viu;\n",
    "\n",
    "\n",
    "- **Avaliação**: forma de avaliar a performance do modelo. Há várias métricas e formas diferentes de avaliação, que conheceremos melhor mais tarde.\n",
    "\n"
   ]
  },
  {
   "cell_type": "markdown",
   "id": "71376e28",
   "metadata": {},
   "source": [
    "## <font color=#33CC66> Particionamento de Base </font>"
   ]
  },
  {
   "cell_type": "markdown",
   "id": "0e656621",
   "metadata": {},
   "source": [
    "### <font color=#33FFFF> Holdout (Split Train Test) </font>\n",
    "\n",
    "```python\n",
    "    from sklearn.model_selection import train_test_split\n",
    "\n",
    "    X = df.drop(columns=target)\n",
    "    y = df.target\n",
    "    X_train, X_test, y_train, y_test = train_test_split(X,\n",
    "                                                        y,\n",
    "                                                        test_size=0.3,\n",
    "                                                        random_state=42,\n",
    "                                                        stratify=y)\n",
    "```\n",
    "\n",
    "### <font color=#33FFFF> Cross-Validation </font>\n",
    "\n",
    "- Realiza k treinamentos (alternando a base de treinamento em k vezes)\n",
    "- Método de particionamento de dados iterativo\n",
    "- A base de treino é dividida entre treino e validação diversas vezes para garantir maior quantidade de ambiente de treino\n",
    "- Vantagens: garante que o desempenho do algoritmo será bom independente da seleção dos dados de validação\n",
    "- Comum para validar os parâmetros do modelo (Grid Search e Random Search)\n",
    "\n",
    "```python\n",
    "    from sklearn.model_selection import cross_validate\n",
    "    from sklearn.tree import DecisionTreeClassifier\n",
    "\n",
    "    clf = DecisionTreeClassifier(random_state= 42)\n",
    "    cv_results = cross_validate(clf, x_train, y_train, cv=5, scoring=['mean_squared_error', 'accuracy_score'], return_train_score= True)\n",
    "    print(cv_results['test_mean_squared_error'])\n",
    "    print(cv_results['train_accuracy_score'])\n",
    "```"
   ]
  },
  {
   "cell_type": "markdown",
   "id": "79c52fd4",
   "metadata": {},
   "source": [
    "## <font color=#33CC66> Tunagem de Modelo </font>"
   ]
  },
  {
   "cell_type": "markdown",
   "id": "ecc3c7a4",
   "metadata": {},
   "source": [
    "### <font color=#33FFFF> Grid e Random Search </font>"
   ]
  },
  {
   "cell_type": "markdown",
   "id": "f80f30b7",
   "metadata": {},
   "source": [
    "<b> ESTATÍSTICAMENTE O RANDOM SEARCH É MELHOR </b>\n",
    "<br>Isso, pois quando existem muitos hiperparam, acertar aleatóriamente os mais impactantes vale mais que rodar todos um por um\n",
    "\n",
    "\n",
    "* Hiperparâmetro: valores de configuração do modelo\n",
    "* Parâmetro: valores a serem aprendidos pelo modelo\n",
    "\n",
    "* Caputrar os valores de Hiperparâmetros\n",
    "    <br> model.get_params()\n",
    "* Primeiro utilizar a busca para <b>encontrar</b> os hiperparâmetros\n",
    "* Em seguida, utilizar eles para criar o modelo\n",
    "\n",
    "\n",
    "| Grid Search                             | Random Search                                     |\n",
    "|-----------------------------------------|---------------------------------------------------|\n",
    "| Preciso preparar e varrer todos valores | Varre alguns valores aleatoriamente               |\n",
    "| Alto custo de tempo                     | Menor custo de tempo, pois não vamos varrer todos |\n",
    "| Pode ser paralelizado                   | Pode ser paralelizado                             |\n",
    "|                                         | Podemos otimizar (Não só para esse método)        |\n",
    "\n",
    "\n",
    "\n",
    "#### GridSearch\n",
    "```python\n",
    "    from sklearn.Neighbors import KNeighborsClassifier\n",
    "    from sklearn. import StandardScaler\n",
    "    from sklearn.model_selection import GridSearchCV\n",
    "\n",
    "    model = KNeighborsClassifier()\n",
    "    X_std = scaler.fit_transform(X)\n",
    "    espaco_hiperparm = {\n",
    "        'n_neighbors': [13, 12, 11, 9, 5, 3, 1]\n",
    "    }\n",
    "\n",
    "    grid_search = GridSearchCV(model, espaco_hiperparm, cv=5)\n",
    "    search = grid_search.fit(X_std, y_train)\n",
    "    print(grid_search.best_params_)\n",
    "    display(pd.DataFrame(grid_search.cv_results_))    \n",
    "```\n",
    "\n",
    "#### RandomSearch\n",
    "* n_iter : quantidade de iterações a se realizar pelo modelo\n",
    "\n",
    "```python\n",
    "    from sklearn.Neighbors import KNeighborsClassifier\n",
    "    import numpy as np\n",
    "    from sklearn. import StandardScaler\n",
    "    from sklearn.model_selection import RandomizeSearchCV\n",
    "\n",
    "    model = KNeighborsClassifier()\n",
    "    X_std = scaler.fit_transform(X)\n",
    "    espaco_hiperparm = {\n",
    "        'n_neighbors': np.arange(3, 11),\n",
    "        'p': np.arange(1, 3) # Para grau arbitrário é usado Minkowski com p = n\n",
    "    }\n",
    "\n",
    "    rand_search = RandomizeSearchCV(model, espaco_hiperparm, cv=5, n_iter=n)\n",
    "    search = rand_search.fit(X_std, y_train)\n",
    "    print(rand_search.best_params_)\n",
    "    display(pd.DataFrame(rand_search.cv_results_))\n",
    "\n",
    "    guardar_dados = csv.params e csv.mean_test_score\n",
    "```\n",
    "\n"
   ]
  },
  {
   "cell_type": "markdown",
   "id": "166b09c2",
   "metadata": {},
   "source": [
    "### <font color=#33FFFF> Naive Bayes </font>"
   ]
  },
  {
   "cell_type": "markdown",
   "id": "fc34e3fc",
   "metadata": {},
   "source": [
    "Ele tenta otimizar a pesquisa de hiperparâmetros a partir de probabilidade\n",
    "<br>Dessa forma, flexiciona os hiperparâmetros e probabilisticamente busca a melhor combinação\n",
    "\n",
    "Vamos relembrar da aula de Estatística e Probabilidade sobre a __Teoria Bayesiana__, onde:\n",
    "    \n",
    "<img src=\"https://www.kdnuggets.com/wp-content/uploads/bayes-nagesh-1.jpg\" width=600>\n",
    "\n",
    "Mas para seguirmos a rigorosamente a Teoria Bayesiana, precisariamos saber todas as distribuição de probabilidade conjuntas e para estimarmos eles seria um bem trabalhoso. Uma forma __simples__ mas __ingênua__ (o que da o nome do modelo de __Naive Bayes__ é assumirmos que as variáveis que descrevem os atributos são __independentes!__\n",
    " \n",
    "Partindo de uma para probabilidade \"anterior\" a priori, podemos chegar na \"posterior\" ou posteriori.\n",
    "\n",
    "```python\n",
    "    from skopt import BayesSearchCV\n",
    "    from sklearn.Neighbors import KNeighborsClassifier\n",
    "    import numpy as np\n",
    "    from sklearn. import StandardScaler\n",
    "    \n",
    "    model = KNeighborsClassifier()\n",
    "    X_std = scaler.fit_transform(X)\n",
    "    espaco_hiperparm = {\n",
    "        'n_neighbors': (3, 11),\n",
    "        'p': (1, 3) # Para grau arbitrário é usado Minkowski com p = n\n",
    "    }\n",
    "\n",
    "    bayes_search = BayesSearchCV(model, espaco_hiperparm, cv=5, n_iter=n)\n",
    "    search = bayes_search.fit(X_std, y_train)\n",
    "    print(bayes_search.best_params_)\n",
    "    display(pd.DataFrame(bayes_search.cv_results_))\n",
    "\n",
    "    guardar_dados = csv.params e csv.mean_test_score\n",
    "\n",
    "```"
   ]
  },
  {
   "cell_type": "markdown",
   "id": "48676361",
   "metadata": {},
   "source": [
    "## <font color=#33CC66> Métricas de Avaliação </font>"
   ]
  },
  {
   "cell_type": "markdown",
   "id": "3567026e",
   "metadata": {},
   "source": [
    "```python\n",
    "from sklearn.metrics import classification_report\n",
    "print(classification_report(y_test, y_pred))\n",
    "```\n",
    "\n",
    "<img src=\"https://static.packt-cdn.com/products/9781838555078/graphics/C13314_06_05.jpg\" width=400>\n",
    "\n",
    "Visto isso, as seguintes métricas numéricas de avaliação são bastante comuns na avaliação de modelos de classificação:\n",
    "\n",
    "- Acurácia (Accuracy): porcentagem de classificações CORRETAS do modelo; <b> Predição Correta / Predição Total </b> (Problema com bases desbalanceadas)\n",
    "\n",
    "- Precisão (Precision): das respostas retornadas, quantas são relevantes? -- <b> Predição 1 / (Predição Correta 1 + Predição Incorreta 1) </b> (Foca no Falso Positivo)\n",
    "\n",
    "- Revocação/Sensibilidade (Recall/Sensitivity): das respostas relevantes, quantas são retornadas? -- <b> Predição 1 / (Predição Correta 1 + Predição Incorreta 0) </b> (Foca no Falso Negativo)\n",
    "\n",
    "- F1-Score: média harmônica de precision e recall. (Interessante como métrica única)\n",
    "\n",
    "<img src=\"https://miro.medium.com/max/1080/1*t1vf-ofJrJqtmam0KSn3EQ.png\" height=\"400\" width=\"400\">"
   ]
  },
  {
   "cell_type": "markdown",
   "id": "22634369",
   "metadata": {},
   "source": [
    "###  <font color=#33FFFF> Cálculo de Erro </font>"
   ]
  },
  {
   "cell_type": "markdown",
   "id": "403e6e2d",
   "metadata": {},
   "source": [
    "#### MAE (Erro Médio Absoluto)\n",
    "- Média da diferença absoluta entre valor real e predito\n",
    "\n",
    "    <img src=\"https://i.imgur.com/BmBC8VW.jpg\" height=\"200\" width=\"400\">\n",
    "\n",
    "#### MSE (Erro Médio Quadrático)\n",
    "- Média da diferença quadrática entre valor real e predito\n",
    "\n",
    "    <img src=\"https://i.imgur.com/vB3UAiH.jpg\" height=\"200\" width=\"400\">\n",
    "\n",
    "#### RMSE  (Raíz do Erro Médio Absoluto)\n",
    "- Raíz da média da diferença quadrática entre valor real e predito"
   ]
  },
  {
   "cell_type": "markdown",
   "id": "56f3de86",
   "metadata": {},
   "source": [
    "###  <font color=#33FFFF> Curva ROC-AUC </font>"
   ]
  },
  {
   "cell_type": "markdown",
   "id": "beacae56",
   "metadata": {},
   "source": [
    "* Curva Roc: Curva probabilistica\n",
    "* Area Under the Curve (AUC): Medida numérica para comparação\n",
    "<br><br>\n",
    "-----------\n",
    "* Métrica de avaliação cruzada com o intuito de permitir a comparação de desempenho entre modelos\n",
    "* Variáveis consideradas: Taxa de <b>TP(VP)</b> e <b>FP(FP)</b>\n",
    "\n",
    "\n"
   ]
  },
  {
   "cell_type": "markdown",
   "id": "b93b719c",
   "metadata": {},
   "source": []
  },
  {
   "cell_type": "markdown",
   "id": "d6b9927c",
   "metadata": {},
   "source": [
    "#  <font color=#FFCC66> Supervisionados </font>"
   ]
  },
  {
   "cell_type": "markdown",
   "id": "5bbebe01",
   "metadata": {},
   "source": [
    "## <font color=#33CC66> Modelos de Classificação </font>"
   ]
  },
  {
   "cell_type": "markdown",
   "id": "d5f091eb",
   "metadata": {},
   "source": [
    "### <font color=#33FFFF> Regressão Logística </font>"
   ]
  },
  {
   "cell_type": "markdown",
   "id": "b4ca9f6f",
   "metadata": {},
   "source": [
    "- Utilizado quando a clasificação é binária\n",
    "- Se apoia na probabilidade de uma função signoide e um threshold"
   ]
  },
  {
   "cell_type": "markdown",
   "id": "6b53065b",
   "metadata": {},
   "source": [
    "```python\n",
    "from sklearn.linear_model import LogisticRegression\n",
    "reg = LogisticRegression()\n",
    "reg.fit(X_train, y_train)\n",
    "y_pred = reg.predict(X_test)\n",
    "```"
   ]
  },
  {
   "cell_type": "markdown",
   "id": "bcdd0856",
   "metadata": {},
   "source": [
    "##### - Hiperparâmetros"
   ]
  },
  {
   "cell_type": "markdown",
   "id": "f274cf11",
   "metadata": {},
   "source": [
    " - Penalty\n",
    " - Max_iter\n",
    " - C\n",
    " - Solver"
   ]
  },
  {
   "cell_type": "markdown",
   "id": "cfc8d1d9",
   "metadata": {},
   "source": [
    "### <font color=#33FFFF>  Decision Tree </font>"
   ]
  },
  {
   "cell_type": "markdown",
   "id": "9a30b16c",
   "metadata": {},
   "source": [
    "```python\n",
    "from sklearn.tree import DecisionTreeClassifier\n",
    "dtc = DecisionTreeClassifier(random_state=42,\n",
    "                             max_depth=n) # A profundidade da árvore evita overfiting\n",
    "dtc.get_params() # Apresentar como o modelo está parametrizado\n",
    "dtc.fit(X_train, y_train)\n",
    "y_pred = dtc.predict(X_test)\n",
    "```"
   ]
  },
  {
   "cell_type": "markdown",
   "id": "e95921b4",
   "metadata": {},
   "source": [
    "##### - Hiperparâmetros"
   ]
  },
  {
   "cell_type": "markdown",
   "id": "847bdbd9",
   "metadata": {},
   "source": [
    " - Criterion\n",
    " - Max_depht\n",
    " - Min_samples_split\n",
    " - Min_samples_leaf\n",
    " - Max_features"
   ]
  },
  {
   "cell_type": "markdown",
   "id": "1c2da39c",
   "metadata": {},
   "source": [
    "#### **- Critério de Gini ou Entropia**"
   ]
  },
  {
   "cell_type": "markdown",
   "id": "67f9bf1f",
   "metadata": {},
   "source": [
    "##### **- Critério de Gini**\n",
    "\n",
    "A **impureza de Gini** mede o quão \"impuras\" são as folhas das árvores construídas após as quebras nos nós. O coeficiente é dado por:\n",
    "\n",
    "$$Gini(D) = 1 - \\sum{p_{i}^2}$$\n",
    "\n",
    "Onde $p_i$ são as proporções de separação do target em cada quebra."
   ]
  },
  {
   "cell_type": "markdown",
   "id": "3a12fb4f",
   "metadata": {},
   "source": [
    "- $G(\\text{p1}) = 1 - (\\frac{p1_1}{p1_t}^2 + \\frac{p1_2}{p1_t}^2)$\n",
    "\n",
    "    <br>\n",
    "- $G(\\text{p2}) = 1 - ( \\frac{p2_1}{p2_t}^2 + \\frac{p2_2}{p2_t}^2)$\n",
    "\n",
    "Ou seja, após a divisão, a impureza total passa a ser a média ponderada: \n",
    "\n",
    "- $G(\\text{médio-pós-divisão}) = \\frac{p1}{p_t} \\times G(\\text{p1}) + \\frac{p2}{p_t} \\times G(\\text{p2})$\n",
    "\n",
    "Assim, **a perda de impureza proporcionada pela quebra** dos dados segundo a feature **sexo** é de:\n",
    "\n",
    "- $\\Delta G_{\\text{sexo}} = G(\\text{pré-divisão}) - G(\\text{pós-divisão})$\n",
    "\n",
    "\n",
    "\n",
    "O **critério de Gini** consiste em **escolher a quebra que proporciona a maior perda de impureza**, ou, equivalentemente, **a maior purificação**. Portanto, quanto maior, melhor."
   ]
  },
  {
   "cell_type": "markdown",
   "id": "1a1d5bf8",
   "metadata": {},
   "source": [
    "##### **- Critério de entropia**\n",
    "\n",
    "A **entropia** é uma quantidade definida em física e teoria da informação com o objetivo de quantificar **o grau de desordem de um sistema**, ou, equivalentemente, **o quanto de informação se tem sobre determinado sistema**.\n",
    "\n",
    "A entropia é dada por:\n",
    "\n",
    " $$E = -\\sum{p_{i} \\times \\log_{2}{p_{i}}}$$\n",
    " \n",
    " \n",
    "Onde $p_i$ são as proporções de separação do target em cada quebra.\n",
    "\n",
    "Aqui estaremos interessados **em como a impureza muda após as quebras**. \n",
    " \n",
    "Aqui também estaremos interessados **em como a entropia muda após as quebras**. Nosso objetivo será **maximizar o ganho de informação proporcionado pela quebra nos nós** -- mais precisamente, estamos interessados em determinar **qual é a quebra que proporciona o maior ganho de informação**."
   ]
  },
  {
   "cell_type": "markdown",
   "id": "981696d6",
   "metadata": {},
   "source": [
    "- **Entropia antes da divisão**: \n",
    "\n",
    "    - $E(\\text{p1}) = -1 \\times (\\frac{p1_1}{p1_t} \\log_{2}\\frac{p1_1}{p1_t} + \\frac{p1_2}{p1_t} \\log_{2}\\frac{p1_2}{p1_t})$\n",
    "\n",
    "        <br>\n",
    "    - $E(\\text{p2}) = -1 \\times (\\frac{p2_1}{p2_t} \\log_{2}\\frac{p2_1}{p2_t} + \\frac{p2_2}{p2_t} \\log_{2}\\frac{p2_2}{p2_t})$\n",
    "    \n",
    "    A entropia ponderada após a divisão por **sexo** é:\n",
    "    \n",
    "    <br>\n",
    "    \n",
    "    - $E(\\text{pós-divisão}) = \\frac{p1}{p_t} \\times E(\\text{p1}) + \\frac{p2}{p_t} \\times E(\\text{p2})$\n",
    "    \n",
    "    Assim, o ganho de informação após a divisão por **sexo** é:\n",
    "    \n",
    "    <br>\n",
    "    \n",
    "    - $\\Delta E_{\\text{sexo}} = E(\\text{pré-divisão}) - E(\\text{pós-divisão})$\n"
   ]
  },
  {
   "cell_type": "markdown",
   "id": "079fa170",
   "metadata": {},
   "source": [
    "**Qual escolher?**\n",
    "- Calcular log é mais caro computacionalmente\n",
    "- A \"vantagem\" logaritmica é justamente quando o valor percorre uma gama grande de valores"
   ]
  },
  {
   "cell_type": "markdown",
   "id": "53ce48a8",
   "metadata": {},
   "source": [
    "###  <font color=#33FFFF> KNN Classifier  </font>"
   ]
  },
  {
   "cell_type": "markdown",
   "id": "64105ac9",
   "metadata": {},
   "source": [
    "Algoritmo de Classificação com embasamento na distância entre as amostras.\n",
    "Dessa forma dentro de um raio de \"K\" vizinhos analisados é realizado a classificação da amostra nos labels disponíveis\n",
    "\n",
    "* Problemas com normalização por considerar distâncias\n",
    "* Sem aprendizado, a cada amostra nova o algoritmo é executado novamente\n",
    "\n",
    "```python\n",
    "    from sklearn.metrics import classification_report, confusion_matrix\n",
    "    from sklearn.neighbors import KNeighborsClassifier\n",
    "\n",
    "    knn = KNeighborsClassifier(n_neighbors:int, metric:str)\n",
    "    knn.fit(x_train, y_train)\n",
    "    y_pred = knn.predict(y_test)\n",
    "    classification_report(y_test, y_pred)\n",
    "    confusion_matrix(y_test, y_pred)\n",
    "```\n",
    "\n",
    "#### Métricas de Distância\n",
    "* Minkowski (p=2) [Generalização da distância Euclidiana]\n",
    "* Euclidiano (p=2)\n",
    "* Manhatam (p=n)\n",
    "* Mahalanobis (p=2) [Normalização em relação à variância]\n",
    "* Chebyshev (p=infinito quando vertical)\n",
    "\n",
    "#### Otimizando o \"K\"\n",
    "* Testar a acurácia entre treino e validação/teste\n",
    "* Elbow Method (Focar na questão de minimização de erro)"
   ]
  },
  {
   "cell_type": "markdown",
   "id": "83a23958",
   "metadata": {},
   "source": [
    "###  <font color=#33FFFF> Naive Bayes  </font>"
   ]
  },
  {
   "cell_type": "markdown",
   "id": "5682158b",
   "metadata": {},
   "source": [
    "* Curvas Gaussianas, Multinomial, Bernoulli\n",
    "* O modelo busca as chances de classificação que cada feature retorna\n",
    "* Cada curva abaixo mostra a relação da feature com a classificação desejada (hue)\n",
    "* É possível averiguar o peso utilizado para a classificação de cada feature"
   ]
  },
  {
   "cell_type": "markdown",
   "id": "f495aa73",
   "metadata": {},
   "source": [
    "<img src=\" data:image/jpeg;base64,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\" />"
   ]
  },
  {
   "cell_type": "markdown",
   "id": "dd5f6bf4",
   "metadata": {},
   "source": [
    "```python\n",
    "    import pandas as pd\n",
    "    from sklearn.naive_bayes import GaussianNB\n",
    "    import numpy as np\n",
    "    from sklearn.model_selection import train_test_split\n",
    "    from sklearn.preprocessing import StandardScaler\n",
    "    from sklearn.metrics import classification_report\n",
    "\n",
    "    df['Chance of Admit '] = np.where(df['Chance of Admit '] > 0.7, 1, 0)\n",
    "\n",
    "    model = GaussianNB()\n",
    "    model.fit(X_train_std, y_train)\n",
    "    y_pred = model.predict(X_test_std)\n",
    "```"
   ]
  },
  {
   "cell_type": "markdown",
   "id": "5bbebe01",
   "metadata": {},
   "source": [
    "## <font color=#33CC66> Modelos de Regressão </font>"
   ]
  },
  {
   "cell_type": "markdown",
   "id": "03fa6c01",
   "metadata": {},
   "source": [
    "### Decision Tree Regression"
   ]
  },
  {
   "cell_type": "markdown",
   "id": "07cc14df",
   "metadata": {},
   "source": [
    "\n",
    "* Regressão é o método estatístico para estimar o relacionamento entre duas variáveis (dependente/alvo e independente/preditoras)"
   ]
  },
  {
   "cell_type": "markdown",
   "id": "4a5fa593",
   "metadata": {},
   "source": [
    "### KNN Regression"
   ]
  },
  {
   "cell_type": "markdown",
   "id": "a4a72570",
   "metadata": {},
   "source": [
    "Realiza a regresssão considerando todas as features de X como a variável independente\n",
    "E a coluna y como variável dependente\n",
    "\n",
    "<b> A Métrica Padrão de Erro é R² </b>\n",
    "\n",
    "```python\n",
    "    from sklearn.neighbors import KNeighborsRegressor\n",
    "    from sklearn.metrics import r2_score\n",
    "\n",
    "    knn_reg = KNeighborsRegressor(n_neighbors = k)\n",
    "    knn_reg.fit(x_train, y_train)\n",
    "    y_pred = knn_reg.pred(x_val)\n",
    "    ## É possível buscar funções para plotar a relação do Valor Predito com o Real pelo seaborn\n",
    "    r2_score(y_test, y_pred)\n",
    "```"
   ]
  },
  {
   "cell_type": "markdown",
   "id": "d6b9927c",
   "metadata": {},
   "source": [
    "#  <font color=#FFCC66> Não Supervisionados </font>"
   ]
  },
  {
   "cell_type": "markdown",
   "id": "5bbebe01",
   "metadata": {},
   "source": [
    "## Modelos de Clusterização"
   ]
  },
  {
   "cell_type": "code",
   "execution_count": null,
   "id": "0ef17ff5",
   "metadata": {},
   "outputs": [],
   "source": []
  },
  {
   "cell_type": "markdown",
   "id": "bdd0bb10",
   "metadata": {},
   "source": [
    "#  <font color=#FFCC66> Data Visualization </font>"
   ]
  },
  {
   "cell_type": "markdown",
   "id": "5633b1c0",
   "metadata": {},
   "source": [
    "## Pair Plot"
   ]
  },
  {
   "cell_type": "markdown",
   "id": "1ea3d392",
   "metadata": {},
   "source": [
    "Função para comparar feature por feature e buscar as correlações da base\n",
    "\n",
    "**O parâmetro \"hue\" é o discretizador da curva, ou seja, o seu target**\n",
    "\n",
    "Dessa forma, é bom buscar o formato da distribuição da feature com ela mesma. Se as curvas do hue forem muito diferentes, podem trazer algum insight"
   ]
  },
  {
   "cell_type": "markdown",
   "id": "128eaf32",
   "metadata": {},
   "source": [
    "- sns.pairplot(df, hue=label)"
   ]
  },
  {
   "cell_type": "markdown",
   "id": "39249489",
   "metadata": {},
   "source": [
    "## CountPlot"
   ]
  },
  {
   "cell_type": "markdown",
   "id": "b139f129",
   "metadata": {},
   "source": [
    "- sns.countplot(feature, normalize=True)"
   ]
  },
  {
   "cell_type": "code",
   "execution_count": null,
   "id": "766aacd7",
   "metadata": {},
   "outputs": [],
   "source": []
  },
  {
   "cell_type": "code",
   "execution_count": null,
   "id": "7a381543",
   "metadata": {},
   "outputs": [],
   "source": []
  }
 ],
 "metadata": {
  "kernelspec": {
   "display_name": "Python 3 (ipykernel)",
   "language": "python",
   "name": "python3"
  },
  "language_info": {
   "codemirror_mode": {
    "name": "ipython",
    "version": 3
   },
   "file_extension": ".py",
   "mimetype": "text/x-python",
   "name": "python",
   "nbconvert_exporter": "python",
   "pygments_lexer": "ipython3",
   "version": "3.10.0"
  }
 },
 "nbformat": 4,
 "nbformat_minor": 5
}
