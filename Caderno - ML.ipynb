{
 "cells": [
  {
   "cell_type": "markdown",
   "id": "129c31ee",
   "metadata": {},
   "source": [
    "# Preprocessamento"
   ]
  },
  {
   "cell_type": "markdown",
   "id": "85eaeff8",
   "metadata": {},
   "source": [
    "- df.shape\n",
    "- df.info()\n",
    "- df.describe()"
   ]
  },
  {
   "cell_type": "markdown",
   "id": "f2cfbd64",
   "metadata": {},
   "source": [
    "## Feature Scaling"
   ]
  },
  {
   "cell_type": "markdown",
   "id": "c090d619",
   "metadata": {},
   "source": [
    "##### Mais sensíveis:  \n",
    "Otimização:\n",
    "- Regressão Linear\n",
    "- Regressao Logística\n",
    "- Redes Neurais\n",
    "\n",
    "Distância:\n",
    "- SVM\n",
    "- KNN\n",
    "- K-means\n",
    "\n",
    "##### Menos sensíveis:  \n",
    "- Arvore de Decisão\n",
    "- Randon Forest\n",
    "  \n",
    "2. Tipos\n",
    "    - Normalization\n",
    "    - Standardization"
   ]
  },
  {
   "cell_type": "markdown",
   "id": "1c92fbbf",
   "metadata": {},
   "source": [
    "## Dimension Reduction"
   ]
  },
  {
   "cell_type": "code",
   "execution_count": null,
   "id": "445ab5ff",
   "metadata": {},
   "outputs": [],
   "source": []
  },
  {
   "cell_type": "markdown",
   "id": "be25c92f",
   "metadata": {},
   "source": [
    "# Estrutura de um Modelo de Machine Learning"
   ]
  },
  {
   "cell_type": "markdown",
   "id": "e23677f6",
   "metadata": {},
   "source": [
    "<img src=\"https://cdn-images-1.medium.com/max/1000/1*ZiYvylk60EY2XG7ck1lqJA.png\" width=500>\n",
    "\n",
    "- **Conjunto de dados de treino**: são os dados utilizados para a construção do modelo, os dados que o modelo utilizará \"para aprender\";\n",
    "\n",
    "\n",
    "- **Conjunto de dados de validação**: conjunto de dados usados para testar o modelo e aprimorar a sua performance, seja na seleção de hyperparâmetros/seleção de modelo;\n",
    "\n",
    "\n",
    "- **Treinamento do modelo**: é a etapa em que cálculos matemáticos são feitos para que a equação que descreve o modelo seja criada! É assim que \"o modelo aprende!\";\n",
    "\n",
    "\n",
    "- **Seleção de hiperparâmetros/seleção de modelo**: etapa em que os hiperperâmetros que constituem o modelo são selecionados. Aqui, técnicas como **grid search** e **cross validation** são muito importantes! Falaremos disso mais tarde.\n",
    "\n",
    "\n",
    "- **Conjunto de dados de teste**: conjunto de dados utilizado para testar o modelo após ele ter sido treinado. Essa é a melhor forma de simular o modelo em produção ou podemos dizer \"na vida real\", onde o nosso modelo será testado com dados que ele nunca viu;\n",
    "\n",
    "\n",
    "- **Avaliação**: forma de avaliar a performance do modelo. Há várias métricas e formas diferentes de avaliação, que conheceremos melhor mais tarde."
   ]
  },
  {
   "cell_type": "markdown",
   "id": "5c5ae278",
   "metadata": {},
   "source": [
    "## Split Train Test"
   ]
  },
  {
   "cell_type": "markdown",
   "id": "699eaab4",
   "metadata": {},
   "source": [
    "```python\n",
    "from sklearn.model_selection import train_test_split\n",
    "\n",
    "X = df.drop(columns=target)\n",
    "y = df.target\n",
    "X_train, X_test, y_train, y_test = train_test_split(X,\n",
    "                                                    y,\n",
    "                                                    test_size=0.3,\n",
    "                                                    random_state=42,\n",
    "                                                    stratify=y)\n",
    "```"
   ]
  },
  {
   "cell_type": "markdown",
   "id": "48676361",
   "metadata": {},
   "source": [
    "## Métricas de Avaliação"
   ]
  },
  {
   "cell_type": "markdown",
   "id": "7743c58c",
   "metadata": {},
   "source": [
    "```python\n",
    "from sklearn.metrics import classification_report\n",
    "print(classification_report(y_test, y_pred))\n",
    "```"
   ]
  },
  {
   "cell_type": "markdown",
   "id": "3567026e",
   "metadata": {},
   "source": [
    "<img src=\"https://static.packt-cdn.com/products/9781838555078/graphics/C13314_06_05.jpg\" width=400>\n",
    "\n",
    "Visto isso, as seguintes métricas numéricas de avaliação são bastante comuns na avaliação de modelos de classificação:\n",
    "\n",
    "- Acurácia (Accuracy): porcentagem de classificações CORRETAS do modelo;\n",
    "\n",
    "- Precisão (Precision): das respostas retornadas, quantas são relevantes? -- é a razão entre verdadeiros positivos e o  número de **preditos positivos**, isto é, positivos quanto à **label predita pelo modelo**.\n",
    "\n",
    "- Revocação/Sensibilidade (Recall/Sensitivity): das respostas relevantes, quantas são retornadas? -- é a razão entre verdadeiros positivos e o  número de **verdadeiramente positivos**, isto é, positivos quanto à **label real**.\n",
    "\n",
    "- F1-Score: média harmônica de precision e recall.\n",
    "\n",
    "<img src=\"https://miro.medium.com/max/1080/1*t1vf-ofJrJqtmam0KSn3EQ.png\" height=\"400\" width=\"400\">"
   ]
  },
  {
   "cell_type": "markdown",
   "id": "d6b9927c",
   "metadata": {},
   "source": [
    "# Supervisionados"
   ]
  },
  {
   "cell_type": "markdown",
   "id": "5bbebe01",
   "metadata": {},
   "source": [
    "## Modelos de Classificação"
   ]
  },
  {
   "cell_type": "markdown",
   "id": "d5f091eb",
   "metadata": {},
   "source": [
    "### Regressão Logística"
   ]
  },
  {
   "cell_type": "markdown",
   "id": "b4ca9f6f",
   "metadata": {},
   "source": [
    "- Utilizado quando a clasificação é binária\n",
    "- Se apoia na probabilidade de uma função signoide e um threshold"
   ]
  },
  {
   "cell_type": "markdown",
   "id": "6b53065b",
   "metadata": {},
   "source": [
    "```python\n",
    "from sklearn.linear_model import LogisticRegression\n",
    "reg = LogisticRegression()\n",
    "reg.fit(X_train, y_train)\n",
    "y_pred = reg.predict(X_test)\n",
    "```"
   ]
  },
  {
   "cell_type": "markdown",
   "id": "bcdd0856",
   "metadata": {},
   "source": [
    "##### - Hiperparâmetros"
   ]
  },
  {
   "cell_type": "markdown",
   "id": "f274cf11",
   "metadata": {},
   "source": [
    " - Penalty\n",
    " - Max_iter\n",
    " - C\n",
    " - Solver"
   ]
  },
  {
   "cell_type": "markdown",
   "id": "cfc8d1d9",
   "metadata": {},
   "source": [
    "### Decision Tree"
   ]
  },
  {
   "cell_type": "markdown",
   "id": "9a30b16c",
   "metadata": {},
   "source": [
    "```python\n",
    "from sklearn.tree import DecisionTreeClassifier\n",
    "dtc = DecisionTreeClassifier(random_state=42,\n",
    "                             max_depth=n) # A profundidade da árvore evita overfiting\n",
    "dtc.get_params() # Apresentar como o modelo está parametrizado\n",
    "dtc.fit(X_train, y_train)\n",
    "y_pred = dtc.predict(X_test)\n",
    "```"
   ]
  },
  {
   "cell_type": "markdown",
   "id": "e95921b4",
   "metadata": {},
   "source": [
    "##### - Hiperparâmetros"
   ]
  },
  {
   "cell_type": "markdown",
   "id": "847bdbd9",
   "metadata": {},
   "source": [
    " - Criterion\n",
    " - Max_depht\n",
    " - Min_samples_split\n",
    " - Min_samples_leaf\n",
    " - Max_features"
   ]
  },
  {
   "cell_type": "markdown",
   "id": "1c2da39c",
   "metadata": {},
   "source": [
    "#### **- Critério de Gini ou Entropia**"
   ]
  },
  {
   "cell_type": "markdown",
   "id": "67f9bf1f",
   "metadata": {},
   "source": [
    "##### **- Critério de Gini**\n",
    "\n",
    "A **impureza de Gini** mede o quão \"impuras\" são as folhas das árvores construídas após as quebras nos nós. O coeficiente é dado por:\n",
    "\n",
    "$$Gini(D) = 1 - \\sum{p_{i}^2}$$\n",
    "\n",
    "Onde $p_i$ são as proporções de separação do target em cada quebra."
   ]
  },
  {
   "cell_type": "markdown",
   "id": "3a12fb4f",
   "metadata": {},
   "source": [
    "- $G(\\text{p1}) = 1 - (\\frac{p1_1}{p1_t}^2 + \\frac{p1_2}{p1_t}^2)$\n",
    "\n",
    "    <br>\n",
    "- $G(\\text{p2}) = 1 - ( \\frac{p2_1}{p2_t}^2 + \\frac{p2_2}{p2_t}^2)$\n",
    "\n",
    "Ou seja, após a divisão, a impureza total passa a ser a média ponderada: \n",
    "\n",
    "- $G(\\text{médio-pós-divisão}) = \\frac{p1}{p_t} \\times G(\\text{p1}) + \\frac{p2}{p_t} \\times G(\\text{p2})$\n",
    "\n",
    "Assim, **a perda de impureza proporcionada pela quebra** dos dados segundo a feature **sexo** é de:\n",
    "\n",
    "- $\\Delta G_{\\text{sexo}} = G(\\text{pré-divisão}) - G(\\text{pós-divisão})$\n",
    "\n",
    "\n",
    "\n",
    "O **critério de Gini** consiste em **escolher a quebra que proporciona a maior perda de impureza**, ou, equivalentemente, **a maior purificação**. Portanto, quanto maior, melhor."
   ]
  },
  {
   "cell_type": "markdown",
   "id": "1a1d5bf8",
   "metadata": {},
   "source": [
    "##### **- Critério de entropia**\n",
    "\n",
    "A **entropia** é uma quantidade definida em física e teoria da informação com o objetivo de quantificar **o grau de desordem de um sistema**, ou, equivalentemente, **o quanto de informação se tem sobre determinado sistema**.\n",
    "\n",
    "A entropia é dada por:\n",
    "\n",
    " $$E = -\\sum{p_{i} \\times \\log_{2}{p_{i}}}$$\n",
    " \n",
    " \n",
    "Onde $p_i$ são as proporções de separação do target em cada quebra.\n",
    "\n",
    "Aqui estaremos interessados **em como a impureza muda após as quebras**. \n",
    " \n",
    "Aqui também estaremos interessados **em como a entropia muda após as quebras**. Nosso objetivo será **maximizar o ganho de informação proporcionado pela quebra nos nós** -- mais precisamente, estamos interessados em determinar **qual é a quebra que proporciona o maior ganho de informação**."
   ]
  },
  {
   "cell_type": "markdown",
   "id": "981696d6",
   "metadata": {},
   "source": [
    "- **Entropia antes da divisão**: \n",
    "\n",
    "    - $E(\\text{p1}) = -1 \\times (\\frac{p1_1}{p1_t} \\log_{2}\\frac{p1_1}{p1_t} + \\frac{p1_2}{p1_t} \\log_{2}\\frac{p1_2}{p1_t})$\n",
    "\n",
    "        <br>\n",
    "    - $E(\\text{p2}) = -1 \\times (\\frac{p2_1}{p2_t} \\log_{2}\\frac{p2_1}{p2_t} + \\frac{p2_2}{p2_t} \\log_{2}\\frac{p2_2}{p2_t})$\n",
    "    \n",
    "    A entropia ponderada após a divisão por **sexo** é:\n",
    "    \n",
    "    <br>\n",
    "    \n",
    "    - $E(\\text{pós-divisão}) = \\frac{p1}{p_t} \\times E(\\text{p1}) + \\frac{p2}{p_t} \\times E(\\text{p2})$\n",
    "    \n",
    "    Assim, o ganho de informação após a divisão por **sexo** é:\n",
    "    \n",
    "    <br>\n",
    "    \n",
    "    - $\\Delta E_{\\text{sexo}} = E(\\text{pré-divisão}) - E(\\text{pós-divisão})$\n"
   ]
  },
  {
   "cell_type": "markdown",
   "id": "079fa170",
   "metadata": {},
   "source": [
    "**Qual escolher?**\n",
    "- Calcular log é mais caro computacionalmente\n",
    "- A \"vantagem\" logaritmica é justamente quando o valor percorre uma gama grande de valores"
   ]
  },
  {
   "cell_type": "markdown",
   "id": "03fa6c01",
   "metadata": {},
   "source": [
    "### Decision Tree Regression"
   ]
  },
  {
   "cell_type": "code",
   "execution_count": null,
   "id": "07cc14df",
   "metadata": {},
   "outputs": [],
   "source": []
  },
  {
   "cell_type": "code",
   "execution_count": null,
   "id": "4a5fa593",
   "metadata": {},
   "outputs": [],
   "source": []
  },
  {
   "cell_type": "code",
   "execution_count": null,
   "id": "a4a72570",
   "metadata": {},
   "outputs": [],
   "source": []
  },
  {
   "cell_type": "markdown",
   "id": "bdd0bb10",
   "metadata": {},
   "source": [
    "# Data Visualization"
   ]
  },
  {
   "cell_type": "markdown",
   "id": "5633b1c0",
   "metadata": {},
   "source": [
    "## Pair Plot"
   ]
  },
  {
   "cell_type": "markdown",
   "id": "1ea3d392",
   "metadata": {},
   "source": [
    "Função para comparar feature por feature e buscar as correlações da base\n",
    "\n",
    "**O parâmetro \"hue\" é o discretizador da curva, ou seja, o seu target**\n",
    "\n",
    "Dessa forma, é bom buscar o formato da distribuição da feature com ela mesma. Se as curvas do hue forem muito diferentes, podem trazer algum insight"
   ]
  },
  {
   "cell_type": "markdown",
   "id": "128eaf32",
   "metadata": {},
   "source": [
    "- sns.pairplot(df, hue=label)"
   ]
  },
  {
   "cell_type": "markdown",
   "id": "39249489",
   "metadata": {},
   "source": [
    "## CountPlot"
   ]
  },
  {
   "cell_type": "markdown",
   "id": "b139f129",
   "metadata": {},
   "source": [
    "- sns.countplot(feature, normalize=True)"
   ]
  },
  {
   "cell_type": "code",
   "execution_count": null,
   "id": "ff90eb73",
   "metadata": {},
   "outputs": [],
   "source": []
  },
  {
   "cell_type": "code",
   "execution_count": null,
   "id": "bab83133",
   "metadata": {},
   "outputs": [],
   "source": []
  },
  {
   "cell_type": "code",
   "execution_count": null,
   "id": "109c8755",
   "metadata": {},
   "outputs": [],
   "source": []
  },
  {
   "cell_type": "code",
   "execution_count": null,
   "id": "eec96bb0",
   "metadata": {},
   "outputs": [],
   "source": []
  },
  {
   "cell_type": "code",
   "execution_count": null,
   "id": "ffb477f7",
   "metadata": {},
   "outputs": [],
   "source": []
  },
  {
   "cell_type": "code",
   "execution_count": null,
   "id": "caeb4445",
   "metadata": {},
   "outputs": [],
   "source": []
  },
  {
   "cell_type": "code",
   "execution_count": null,
   "id": "e42224c3",
   "metadata": {},
   "outputs": [],
   "source": []
  },
  {
   "cell_type": "code",
   "execution_count": null,
   "id": "dfd758c8",
   "metadata": {},
   "outputs": [],
   "source": []
  },
  {
   "cell_type": "code",
   "execution_count": null,
   "id": "6a455447",
   "metadata": {},
   "outputs": [],
   "source": []
  },
  {
   "cell_type": "code",
   "execution_count": null,
   "id": "766aacd7",
   "metadata": {},
   "outputs": [],
   "source": []
  }
 ],
 "metadata": {
  "kernelspec": {
   "display_name": "Python 3 (ipykernel)",
   "language": "python",
   "name": "python3"
  },
  "language_info": {
   "codemirror_mode": {
    "name": "ipython",
    "version": 3
   },
   "file_extension": ".py",
   "mimetype": "text/x-python",
   "name": "python",
   "nbconvert_exporter": "python",
   "pygments_lexer": "ipython3",
   "version": "3.10.0"
  }
 },
 "nbformat": 4,
 "nbformat_minor": 5
}
