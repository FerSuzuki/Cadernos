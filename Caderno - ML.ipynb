{
 "cells": [
  {
   "cell_type": "markdown",
   "id": "129c31ee",
   "metadata": {},
   "source": [
    "# Preprocessamento"
   ]
  },
  {
   "cell_type": "markdown",
   "id": "f2cfbd64",
   "metadata": {},
   "source": [
    "## Feature Scaling"
   ]
  },
  {
   "cell_type": "markdown",
   "id": "c090d619",
   "metadata": {},
   "source": [
    "##### Mais sensíveis:  \n",
    "Otimização:\n",
    "- Regressão Linear\n",
    "- Regressao Logística\n",
    "- Redes Neurais\n",
    "\n",
    "Distância:\n",
    "- SVM\n",
    "- KNN\n",
    "- K-means\n",
    "\n",
    "##### Menos sensíveis:  \n",
    "- Arvore de Decisão\n",
    "- Randon Forest\n",
    "  \n",
    "2. Tipos\n",
    "    - Normalization\n",
    "    - Standardization"
   ]
  },
  {
   "cell_type": "code",
   "execution_count": null,
   "id": "1c92fbbf",
   "metadata": {},
   "outputs": [],
   "source": []
  },
  {
   "cell_type": "code",
   "execution_count": null,
   "id": "445ab5ff",
   "metadata": {},
   "outputs": [],
   "source": []
  },
  {
   "cell_type": "code",
   "execution_count": null,
   "id": "be25c92f",
   "metadata": {},
   "outputs": [],
   "source": []
  },
  {
   "cell_type": "markdown",
   "id": "d6b9927c",
   "metadata": {},
   "source": [
    "# Modelos de Classificação"
   ]
  },
  {
   "cell_type": "markdown",
   "id": "5bbebe01",
   "metadata": {},
   "source": [
    "## Supervisionados"
   ]
  },
  {
   "cell_type": "markdown",
   "id": "d5f091eb",
   "metadata": {},
   "source": [
    "### Regressão Logística"
   ]
  },
  {
   "cell_type": "markdown",
   "id": "b4ca9f6f",
   "metadata": {},
   "source": [
    "- Utilizado quando a clasificação é binária\n",
    "- Se apoia na probabilidade de uma função signoide e um threshold"
   ]
  },
  {
   "cell_type": "markdown",
   "id": "6b53065b",
   "metadata": {},
   "source": [
    "```python\n",
    "from sklearn.linear_model import LogisticRegression\n",
    "reg = LogisticRegression()\n",
    "reg.fit(X_train, y_train)\n",
    "y_pred = reg.predict(X_test)\n",
    "```"
   ]
  },
  {
   "cell_type": "markdown",
   "id": "bcdd0856",
   "metadata": {},
   "source": [
    "##### - Hiperparâmetros"
   ]
  },
  {
   "cell_type": "markdown",
   "id": "f274cf11",
   "metadata": {},
   "source": [
    " - Penalty\n",
    " - Max_iter\n",
    " - C\n",
    " - Solver"
   ]
  },
  {
   "cell_type": "markdown",
   "id": "cfc8d1d9",
   "metadata": {},
   "source": [
    "### Decision Tree"
   ]
  },
  {
   "cell_type": "code",
   "execution_count": null,
   "id": "d43c0454",
   "metadata": {},
   "outputs": [],
   "source": []
  },
  {
   "cell_type": "code",
   "execution_count": null,
   "id": "65d2c7a0",
   "metadata": {},
   "outputs": [],
   "source": []
  },
  {
   "cell_type": "markdown",
   "id": "9a30b16c",
   "metadata": {},
   "source": [
    "```python\n",
    "from sklearn.tree import DecisionTreeClassifier\n",
    "dtc = DecisionTreeClassifier()\n",
    "dtc.fit(X_train, y_train)\n",
    "y_pred = dtc.predict(X_test)\n",
    "```"
   ]
  },
  {
   "cell_type": "markdown",
   "id": "e95921b4",
   "metadata": {},
   "source": [
    "##### - Hiperparâmetros"
   ]
  },
  {
   "cell_type": "markdown",
   "id": "847bdbd9",
   "metadata": {},
   "source": [
    " - Criterion\n",
    " - Max_depht\n",
    " - Min_samples_split\n",
    " - Min_samples_leaf\n",
    " - Max_features"
   ]
  },
  {
   "cell_type": "markdown",
   "id": "1c2da39c",
   "metadata": {},
   "source": [
    "#### **- Critério de Gini ou Entropia**"
   ]
  },
  {
   "cell_type": "markdown",
   "id": "67f9bf1f",
   "metadata": {},
   "source": [
    "##### **- Critério de Gini**\n",
    "\n",
    "A **impureza de Gini** mede o quão \"impuras\" são as folhas das árvores construídas após as quebras nos nós. O coeficiente é dado por:\n",
    "\n",
    "$$Gini(D) = 1 - \\sum{p_{i}^2}$$\n",
    "\n",
    "Onde $p_i$ são as proporções de separação do target em cada quebra."
   ]
  },
  {
   "cell_type": "markdown",
   "id": "3a12fb4f",
   "metadata": {},
   "source": [
    "- $G(\\text{p1}) = 1 - (\\frac{p1_1}{p1_t}^2 + \\frac{p1_2}{p1_t}^2)$\n",
    "\n",
    "    <br>\n",
    "- $G(\\text{p2}) = 1 - ( \\frac{p2_1}{p2_t}^2 + \\frac{p2_2}{p2_t}^2)$\n",
    "\n",
    "Ou seja, após a divisão, a impureza total passa a ser a média ponderada: \n",
    "\n",
    "- $G(\\text{médio-pós-divisão}) = \\frac{p1}{p_t} \\times G(\\text{p1}) + \\frac{p2}{p_t} \\times G(\\text{p2})$\n",
    "\n",
    "Assim, **a perda de impureza proporcionada pela quebra** dos dados segundo a feature **sexo** é de:\n",
    "\n",
    "- $\\Delta G_{\\text{sexo}} = G(\\text{pré-divisão}) - G(\\text{pós-divisão})$\n",
    "\n",
    "\n",
    "\n",
    "O **critério de Gini** consiste em **escolher a quebra que proporciona a maior perda de impureza**, ou, equivalentemente, **a maior purificação**. Portanto, quanto maior, melhor."
   ]
  },
  {
   "cell_type": "markdown",
   "id": "1a1d5bf8",
   "metadata": {},
   "source": [
    "##### **- Critério de entropia**\n",
    "\n",
    "A **entropia** é uma quantidade definida em física e teoria da informação com o objetivo de quantificar **o grau de desordem de um sistema**, ou, equivalentemente, **o quanto de informação se tem sobre determinado sistema**.\n",
    "\n",
    "A entropia é dada por:\n",
    "\n",
    " $$E = -\\sum{p_{i} \\times \\log_{2}{p_{i}}}$$\n",
    " \n",
    " \n",
    "Onde $p_i$ são as proporções de separação do target em cada quebra.\n",
    "\n",
    "Aqui estaremos interessados **em como a impureza muda após as quebras**. \n",
    " \n",
    "Aqui também estaremos interessados **em como a entropia muda após as quebras**. Nosso objetivo será **maximizar o ganho de informação proporcionado pela quebra nos nós** -- mais precisamente, estamos interessados em determinar **qual é a quebra que proporciona o maior ganho de informação**."
   ]
  },
  {
   "cell_type": "markdown",
   "id": "981696d6",
   "metadata": {},
   "source": [
    "- **Entropia antes da divisão**: \n",
    "\n",
    "    - $E(\\text{p1}) = -1 \\times (\\frac{p1_1}{p1_t} \\log_{2}\\frac{p1_1}{p1_t} + \\frac{p1_2}{p1_t} \\log_{2}\\frac{p1_2}{p1_t})$\n",
    "\n",
    "        <br>\n",
    "    - $E(\\text{p2}) = -1 \\times (\\frac{p2_1}{p2_t} \\log_{2}\\frac{p2_1}{p2_t} + \\frac{p2_2}{p2_t} \\log_{2}\\frac{p2_2}{p2_t})$\n",
    "    \n",
    "    A entropia ponderada após a divisão por **sexo** é:\n",
    "    \n",
    "    <br>\n",
    "    \n",
    "    - $E(\\text{pós-divisão}) = \\frac{p1}{p_t} \\times E(\\text{p1}) + \\frac{p2}{p_t} \\times E(\\text{p2})$\n",
    "    \n",
    "    Assim, o ganho de informação após a divisão por **sexo** é:\n",
    "    \n",
    "    <br>\n",
    "    \n",
    "    - $\\Delta E_{\\text{sexo}} = E(\\text{pré-divisão}) - E(\\text{pós-divisão})$\n"
   ]
  },
  {
   "cell_type": "markdown",
   "id": "079fa170",
   "metadata": {},
   "source": [
    "**Qual escolher?**\n",
    "- Calcular log é mais caro computacionalmente\n",
    "- A \"vantagem\" logaritmica é justamente quando o valor percorre uma gama grande de valores"
   ]
  },
  {
   "cell_type": "markdown",
   "id": "bdd0bb10",
   "metadata": {},
   "source": [
    "# Data Visualization"
   ]
  },
  {
   "cell_type": "markdown",
   "id": "5633b1c0",
   "metadata": {},
   "source": [
    "## Pair Plot"
   ]
  },
  {
   "cell_type": "markdown",
   "id": "128eaf32",
   "metadata": {},
   "source": [
    "sns.pairplot(df, hue=label)"
   ]
  },
  {
   "cell_type": "markdown",
   "id": "39249489",
   "metadata": {},
   "source": []
  },
  {
   "cell_type": "markdown",
   "id": "b139f129",
   "metadata": {},
   "source": []
  },
  {
   "cell_type": "markdown",
   "id": "44850a7a",
   "metadata": {},
   "source": []
  },
  {
   "cell_type": "markdown",
   "id": "8e81a5eb",
   "metadata": {},
   "source": []
  },
  {
   "cell_type": "markdown",
   "id": "e235cdea",
   "metadata": {},
   "source": []
  },
  {
   "cell_type": "markdown",
   "id": "676e3ee2",
   "metadata": {},
   "source": []
  },
  {
   "cell_type": "markdown",
   "id": "e69eac81",
   "metadata": {},
   "source": []
  },
  {
   "cell_type": "markdown",
   "id": "a802e0e1",
   "metadata": {},
   "source": []
  },
  {
   "cell_type": "code",
   "execution_count": null,
   "id": "ff90eb73",
   "metadata": {},
   "outputs": [],
   "source": [
    "import pandas as pd\n",
    "import numpy as np"
   ]
  },
  {
   "cell_type": "code",
   "execution_count": null,
   "id": "bab83133",
   "metadata": {},
   "outputs": [],
   "source": []
  },
  {
   "cell_type": "code",
   "execution_count": null,
   "id": "109c8755",
   "metadata": {},
   "outputs": [],
   "source": []
  },
  {
   "cell_type": "code",
   "execution_count": null,
   "id": "eec96bb0",
   "metadata": {},
   "outputs": [],
   "source": []
  },
  {
   "cell_type": "code",
   "execution_count": null,
   "id": "ffb477f7",
   "metadata": {},
   "outputs": [],
   "source": []
  },
  {
   "cell_type": "code",
   "execution_count": null,
   "id": "caeb4445",
   "metadata": {},
   "outputs": [],
   "source": []
  },
  {
   "cell_type": "code",
   "execution_count": null,
   "id": "e42224c3",
   "metadata": {},
   "outputs": [],
   "source": []
  },
  {
   "cell_type": "code",
   "execution_count": null,
   "id": "dfd758c8",
   "metadata": {},
   "outputs": [],
   "source": []
  },
  {
   "cell_type": "code",
   "execution_count": null,
   "id": "6a455447",
   "metadata": {},
   "outputs": [],
   "source": []
  },
  {
   "cell_type": "code",
   "execution_count": null,
   "id": "766aacd7",
   "metadata": {},
   "outputs": [],
   "source": []
  }
 ],
 "metadata": {
  "kernelspec": {
   "display_name": "Python 3 (ipykernel)",
   "language": "python",
   "name": "python3"
  },
  "language_info": {
   "codemirror_mode": {
    "name": "ipython",
    "version": 3
   },
   "file_extension": ".py",
   "mimetype": "text/x-python",
   "name": "python",
   "nbconvert_exporter": "python",
   "pygments_lexer": "ipython3",
   "version": "3.10.0"
  }
 },
 "nbformat": 4,
 "nbformat_minor": 5
}
